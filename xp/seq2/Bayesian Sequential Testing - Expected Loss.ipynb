{
 "cells": [
  {
   "cell_type": "markdown",
   "metadata": {},
   "source": [
    "## Bayesian Sequential Testing\n",
    "## Introduction\n",
    "\n",
    "\n",
    "This document outlines a procedure for conducting A/B/n Bayesian testing based on the approach described in [VWO's \n",
    "white paper](https://cdn2.hubspot.net/hubfs/310840/VWO_SmartStats_technical_whitepaper.pdf).\n",
    " The Python implementation is available in [here](https://stash.aexp.com/stash/projects/ONE-STREAM/repos/xp-algorithms/browse/sequential-testing/vwo).  \n",
    "  \n",
    "A binary-outcome test (e.g. a test of conversion rates) can be modeled as a binomial sequence with parameter $p$. The beta distribution is a convenient prior distribution for modeling a binomial parameter $p$. Starting from a non-informative prior $Beta\\left(1, 1\\right)$, the posterior probability distribution of $p$ after $N$ events with $S$ successes is given by $Beta\\left(S+1,N-S+1\\right)$ accoring to Bayes theorem. Therefore, throughout the test, we only need to track only 2 numbers to compute the posterior distribution - $N$ an $S$.\n",
    "\n",
    "Once we can derive the probability distribution for a test, we can easily compute many useful statistics. \n",
    "For example, we can compute the probability that the variant $A$ is better than the variant $B$ using the joint\n",
    "probability distrbution."
   ]
  },
  {
   "cell_type": "markdown",
   "metadata": {},
   "source": [
    "$$X:\\,Random\\,variable\\,for\\:conversion\\,rate\\,of\\,variant\\,A\\,$$\n",
    "$$\\,Y:\\,Random\\,variable\\,for\\,conversion\\,rate\\,of\\,variant\\,B$$\n",
    "\n",
    "$$X\\sim Beta\\left(a,b\\right),Y\\sim Beta\\left(c,d\\right)$$\n",
    "\n",
    "$$P\\left(X>Y\\right)= \\int_0^1\\int_y^1 \\frac{x^a\\left(1-x\\right)^b}{B\\left(a,b\\right)} \\frac{y^c\\left(1-y\\right)^d}{B\\left(c,d\\right)}~dx~dy \n",
    "\\equiv g\\left(a, b, c, d\\right)\n",
    "= \\frac{\\Gamma\\left(d+b\\right)\\Gamma\\left(d+c\\right)}{\\Gamma\\left(d+b+c\\right)\\Gamma\\left(d\\right)} + \\sum_{i=1}^{a-1} \\left(\\frac{\\Gamma\\left(i+c\\right)\\Gamma\\left(b+d\\right)\\Gamma\\left(i+b\\right)\\Gamma\\left(c+d\\right)}{\\Gamma\\left(i\\right)\\Gamma\\left(b\\right)\\Gamma\\left(c\\right)\\Gamma\\left(d\\right)\\Gamma\\left(i+b+c+d\\right)}\\right) / i$$\n",
    "   \n",
    "$$B\\left(a, b\\right)\\,is\\,the\\,beta\\,fuction\\,with\\,parameters\\,a\\,and\\,b$$\n",
    "$$\\Gamma\\left(a\\right)\\,is\\,the\\,gamma\\,fuction\\,with\\,parameter\\,a$$\n",
    "   \n",
    "Note:  The derivation of the above closed-form formula can be found [here](https://www.johndcook.com/UTMDABTR-005-05.pdf). "
   ]
  },
  {
   "cell_type": "markdown",
   "metadata": {},
   "source": [
    "Here is VWO's dashboard for reporting test results which includes many additonal statistics.\n",
    "\n",
    "<img src=\"https://static.wingify.com/vwo/wp-content/themes/vwo/images/smartstats/smart-stat-report-table.png\">\n",
    "\n",
    "Source: https://vwo.com/resources/bayesian-ab-testing/\n",
    "\n",
    "These statistics can be reproduced by the following code:"
   ]
  },
  {
   "cell_type": "code",
   "execution_count": 1,
   "metadata": {
    "scrolled": true
   },
   "outputs": [
    {
     "data": {
      "text/plain": [
       "{'data': [250, 11221, 1600, 14187],\n",
       " 'beta_param': [251, 10972, 1601, 12588],\n",
       " 'cvr_a': 0.022364786598948586,\n",
       " 'cvr_b': 0.11283388540418635,\n",
       " 'cvr_a_ci': [0.01892988453955432, 0.02611928740825431],\n",
       " 'cvr_b_ci': [0.10609539604453345, 0.11977736047524634],\n",
       " 'prob_b_gt_a': 1.0,\n",
       " 'lift': 0.09046909880523776,\n",
       " 'el_a': 0.0904690988100059,\n",
       " 'el_b': 8.835834986583339e-194,\n",
       " 'el_res': 'B'}"
      ]
     },
     "execution_count": 1,
     "metadata": {},
     "output_type": "execute_result"
    }
   ],
   "source": [
    "import util.el_core as el_core\n",
    "el_core.calc_stat(sa=250, na=11221, sb=1600, nb=14187, relative_mde_value=0.02)"
   ]
  },
  {
   "cell_type": "markdown",
   "metadata": {},
   "source": [
    "## Running a Bayesian sequential test\n",
    "## A/B Case"
   ]
  },
  {
   "cell_type": "code",
   "execution_count": 2,
   "metadata": {},
   "outputs": [
    {
     "name": "stdout",
     "output_type": "stream",
     "text": [
      "Sample size for mu=0.2000, relative_mde_value=0.0200, absolute_mde_value=0.0040, alpha=0.0500, beta=0.0500:\n",
      "variant_sample_size=261,830, total_sample_size=523,661\n"
     ]
    }
   ],
   "source": [
    "import util.helper as helper\n",
    "ss = helper.sample_size(alpha=0.05, beta=0.05, mu=0.2, relative_mde_value=0.02, variants=2, pr=True)"
   ]
  },
  {
   "cell_type": "markdown",
   "metadata": {},
   "source": [
    "VWO define the loss function and expected loss as below. Expected loss represents the expected losses associated with \n",
    "choosing \"A\" or \"B\" as the winner. \n",
    "\n",
    "**Loss function:**\n",
    "  \n",
    "$L_x=max\\left(Y-X, 0\\right),L_y=max\\left(X-Y, 0\\right)$\n",
    "\n",
    "$$E[L_x] = \\int_0^1\\int_0^1 max\\left(y-x,0\\right)\\frac{x^a\\left(1-x\\right)^b}{B\\left(a,b\\right)} \\frac{y^c\\left(1-y\\right)^d}{B\\left(c,d\\right)}~dx~dy\n",
    "= \\frac{B\\left(c+1,d\\right)}{B\\left(c,d\\right)}g\\left(c+1,d,a,b\\right) - \n",
    "\\frac{B\\left(a+1,b\\right)}{B\\left(a,b\\right)}g\\left(c,d,a+1,b\\right)$$\n",
    "\n",
    "$$E[L_y] = \\int_0^1\\int_0^1 max\\left(x-y,0\\right)\\frac{x^a\\left(1-x\\right)^b}{B\\left(a,b\\right)} \\frac{y^c\\left(1-y\\right)^d}{B\\left(c,d\\right)}~dx~dy\n",
    "= \\frac{B\\left(a+1,b\\right)}{B\\left(a,b\\right)}g\\left(a+1,b,c,d\\right) - \n",
    "\\frac{B\\left(c+1,d\\right)}{B\\left(c,d\\right)}g\\left(a,b,c+1,d\\right)$$\n",
    "  \n",
    "  \n",
    "Note: the derivation of the above closed-form formula can be found [here](https://www.chrisstucchio.com/blog/2014/bayesian_ab_decision_rule.html).\n",
    "\n",
    "**Decision rule:**  \n",
    "  \n",
    "Chose a threshold of caring($toc$). If the expected loss of a variant is below $toc$, delare this variant as the winner."
   ]
  },
  {
   "cell_type": "markdown",
   "metadata": {},
   "source": [
    "Based on the simulation study, [threshold of caring values recommended by VWO](https://vwo.com/knowledge/what-is-smart-decision) normally results in high type 1 error rates(~12% for high certainty values). So more conversative toc values are used. A toc calculation example is show below:"
   ]
  },
  {
   "cell_type": "code",
   "execution_count": 3,
   "metadata": {},
   "outputs": [
    {
     "name": "stdout",
     "output_type": "stream",
     "text": [
      "TOC for mu=0.2000, relative_mde_value=0.0200, absolute_mde_value=0.0040: toc_adj_factor:0.00025:\n",
      "VWO recommended values: high certainty: 0.00004000, balance: 0.00030000, quick learning: 0.00080000\n",
      "Suggested value for One XP: 0.00000100\n"
     ]
    }
   ],
   "source": [
    "# 0.00000250(the value after sequential:) is the suggested toc for running a sequential test.\n",
    "import util.helper as helper\n",
    "toc = helper.estimate_toc(mu=0.2, relative_mde_value=0.02, pr=True)"
   ]
  },
  {
   "cell_type": "markdown",
   "metadata": {},
   "source": [
    "A simulated example based on the suggested $toc$:"
   ]
  },
  {
   "cell_type": "code",
   "execution_count": 4,
   "metadata": {},
   "outputs": [
    {
     "data": {
      "text/plain": [
       "{'data': [52344, 261830, 52559, 261830],\n",
       " 'beta_param': [52345, 209487, 52560, 209272],\n",
       " 'cvr_a': 0.19991826820251155,\n",
       " 'cvr_b': 0.2007394054202695,\n",
       " 'cvr_a_ci': [0.19790932795232713, 0.20193581917646042],\n",
       " 'cvr_b_ci': [0.19872735855654716, 0.2027600394456196],\n",
       " 'prob_b_gt_a': 0.7710507481834813,\n",
       " 'lift': 0.0008211372177579501,\n",
       " 'el_a': 0.0009681703411913711,\n",
       " 'el_b': 0.00014703305359205915,\n",
       " 'el_res': 'U'}"
      ]
     },
     "execution_count": 4,
     "metadata": {},
     "output_type": "execute_result"
    }
   ],
   "source": [
    "import numpy as np\n",
    "import util.el_core as el_core\n",
    "np.random.seed(2016)\n",
    "data = [np.random.binomial(1, 0.2, ss['variant_sample_size']), np.random.binomial(1, 0.2, ss['variant_sample_size'])]\n",
    "el_core.calc_ab(data, relative_mde_value=0.02) # plug the data into calc_ab to produce output statistics for a test"
   ]
  },
  {
   "cell_type": "markdown",
   "metadata": {},
   "source": [
    "In order to control type 1 error rates, we need to use even more conservative $toc$ for sequential testing. \n",
    "For given $p_0$ and $mde$, the suggested toc is $p_0*mde*0.00025$. The simulation study shows that this suggested \n",
    "value can limit the type 1 error rates under 5% after 1,000 peeks."
   ]
  },
  {
   "cell_type": "markdown",
   "metadata": {},
   "source": [
    "## Simulation"
   ]
  },
  {
   "cell_type": "code",
   "execution_count": 1,
   "metadata": {},
   "outputs": [
    {
     "name": "stdout",
     "output_type": "stream",
     "text": [
      "Sample size for mu=0.2000, relative_mde_value=0.0200, absolute_mde_value=0.0040, alpha=0.0500, beta=0.0500:\n",
      "variant_sample_size=261,830, total_sample_size=523,661\n"
     ]
    }
   ],
   "source": [
    "import util.helper as helper\n",
    "import util.sim_el as sim_el\n",
    "ss = helper.sample_size(mu=0.2, relative_mde_value=0.02, pr=True)"
   ]
  },
  {
   "cell_type": "code",
   "execution_count": 2,
   "metadata": {},
   "outputs": [
    {
     "name": "stdout",
     "output_type": "stream",
     "text": [
      "[Start time]: 2020-02-03 23:04:40\n",
      "[Parameters]: muA: 0.2, muB: 0.2, sample_size: 261,830, n_experiments: 1,000, relative_mde_value: 0.02, toc_adj_factor: 0.00025, n_peeks: 25, start: 10,473, step: 10,473\n",
      "[02-03 23:04:51]: Peek #1 @ 10,473 samples, avg_lift: 0.01833, el_res: {'U': 999, 'A': 1}\n",
      "[02-03 23:04:54]: Peek #2 @ 20,946 samples, avg_lift: 0.01313, el_res: {'U': 996, 'A': 2, 'B': 2}\n",
      "[02-03 23:04:58]: Peek #3 @ 31,419 samples, avg_lift: 0.00980, el_res: {'U': 995, 'B': 3, 'A': 2}\n",
      "[02-03 23:05:03]: Peek #4 @ 41,892 samples, avg_lift: 0.00850, el_res: {'U': 993, 'A': 4, 'B': 3}\n"
     ]
    },
    {
     "name": "stderr",
     "output_type": "stream",
     "text": [
      "/Users/thuan/anaconda3/lib/python3.6/site-packages/numpy/core/fromnumeric.py:3118: RuntimeWarning: Mean of empty slice.\n",
      "  out=out, **kwargs)\n",
      "/Users/thuan/anaconda3/lib/python3.6/site-packages/numpy/core/_methods.py:85: RuntimeWarning: invalid value encountered in double_scalars\n",
      "  ret = ret.dtype.type(ret / rcount)\n"
     ]
    },
    {
     "name": "stdout",
     "output_type": "stream",
     "text": [
      "[02-03 23:05:08]: Peek #5 @ 52,365 samples, avg_lift: nan, el_res: {'U': 993, 'A': 4, 'B': 3}\n",
      "[02-03 23:05:15]: Peek #6 @ 62,838 samples, avg_lift: 0.00719, el_res: {'U': 992, 'A': 5, 'B': 3}\n",
      "[02-03 23:05:23]: Peek #7 @ 73,311 samples, avg_lift: 0.00641, el_res: {'U': 989, 'A': 7, 'B': 4}\n",
      "[02-03 23:05:31]: Peek #8 @ 83,784 samples, avg_lift: 0.00586, el_res: {'U': 988, 'A': 8, 'B': 4}\n",
      "[02-03 23:05:41]: Peek #9 @ 94,257 samples, avg_lift: 0.00541, el_res: {'U': 987, 'A': 9, 'B': 4}\n",
      "[02-03 23:05:52]: Peek #10 @ 104,730 samples, avg_lift: 0.00537, el_res: {'U': 985, 'A': 11, 'B': 4}\n",
      "[02-03 23:06:03]: Peek #11 @ 115,203 samples, avg_lift: nan, el_res: {'U': 985, 'A': 11, 'B': 4}\n",
      "[02-03 23:06:16]: Peek #12 @ 125,676 samples, avg_lift: 0.00478, el_res: {'U': 984, 'A': 11, 'B': 5}\n",
      "[02-03 23:06:30]: Peek #13 @ 136,149 samples, avg_lift: nan, el_res: {'U': 984, 'A': 11, 'B': 5}\n",
      "[02-03 23:06:44]: Peek #14 @ 146,622 samples, avg_lift: nan, el_res: {'U': 984, 'A': 11, 'B': 5}\n",
      "[02-03 23:07:00]: Peek #15 @ 157,095 samples, avg_lift: 0.00409, el_res: {'U': 983, 'A': 11, 'B': 6}\n",
      "[02-03 23:07:17]: Peek #16 @ 167,568 samples, avg_lift: 0.00405, el_res: {'U': 980, 'A': 14, 'B': 6}\n",
      "[02-03 23:07:35]: Peek #17 @ 178,041 samples, avg_lift: 0.00445, el_res: {'U': 979, 'A': 14, 'B': 7}\n",
      "[02-03 23:07:53]: Peek #18 @ 188,514 samples, avg_lift: nan, el_res: {'U': 979, 'A': 14, 'B': 7}\n",
      "[02-03 23:08:15]: Peek #19 @ 198,987 samples, avg_lift: nan, el_res: {'U': 979, 'A': 14, 'B': 7}\n",
      "[02-03 23:08:35]: Peek #20 @ 209,460 samples, avg_lift: 0.00349, el_res: {'U': 978, 'A': 15, 'B': 7}\n",
      "[02-03 23:08:56]: Peek #21 @ 219,933 samples, avg_lift: nan, el_res: {'U': 978, 'A': 15, 'B': 7}\n",
      "[02-03 23:09:19]: Peek #22 @ 230,406 samples, avg_lift: nan, el_res: {'U': 978, 'A': 15, 'B': 7}\n",
      "[02-03 23:09:42]: Peek #23 @ 240,879 samples, avg_lift: nan, el_res: {'U': 978, 'A': 15, 'B': 7}\n",
      "[02-03 23:10:06]: Peek #24 @ 251,352 samples, avg_lift: 0.00328, el_res: {'U': 977, 'A': 15, 'B': 8}\n",
      "[02-03 23:10:33]: Peek #25 @ 261,825 samples, avg_lift: nan, el_res: {'U': 977, 'A': 15, 'B': 8}\n",
      "[Parameters]: muA: 0.2, muB: 0.2, sample_size: 261,830, n_experiments: 1,000, relative_mde_value: 0.02, toc_adj_factor: 0.00025, n_peeks: 25, start: 10,473, step: 10,473\n",
      "[EL] 25 peeks - Type 1 error rate: 0.0230, error_avg_lift: 0.00718, el_res: {'U': 977, 'A': 15, 'B': 8}\n",
      "[Elasped time]: 0:05:52.928147\n",
      "[End time]: 2020-02-03 23:10:33\n"
     ]
    }
   ],
   "source": [
    "sim_data = sim_el.sim_peeking(muA=0.2, muB=0.2, sample_size=ss['variant_sample_size'], \n",
    "                              n_experiments=1000, relative_mde_value=0.02, n_peeks=25)"
   ]
  },
  {
   "cell_type": "markdown",
   "metadata": {},
   "source": [
    "The EL decision rule needs an average sample size of 158,379 to get 95% power compared to 261,000 sample size needed for T-test."
   ]
  },
  {
   "cell_type": "code",
   "execution_count": 3,
   "metadata": {},
   "outputs": [
    {
     "name": "stdout",
     "output_type": "stream",
     "text": [
      "[Start time]: 2020-02-03 23:13:25\n",
      "[Parameters]: muA: 0.2, muB: 0.204, sample_size: 379,653, n_experiments: 1,000, relative_mde_value: 0.02, toc_adj_factor: 0.00025, n_peeks: 25, start: 15,186, step: 15,186\n",
      "[02-03 23:13:40]: Peek #1 @ 15,186 samples, avg_lift: 0.01600, el_res: {'U': 987, 'B': 13}\n",
      "[02-03 23:13:44]: Peek #2 @ 30,372 samples, avg_lift: 0.01087, el_res: {'U': 955, 'B': 45}\n",
      "[02-03 23:13:49]: Peek #3 @ 45,558 samples, avg_lift: 0.00900, el_res: {'U': 915, 'B': 85}\n",
      "[02-03 23:13:55]: Peek #4 @ 60,744 samples, avg_lift: 0.00738, el_res: {'U': 865, 'B': 135}\n",
      "[02-03 23:14:02]: Peek #5 @ 75,930 samples, avg_lift: 0.00664, el_res: {'U': 810, 'B': 190}\n",
      "[02-03 23:14:10]: Peek #6 @ 91,116 samples, avg_lift: 0.00606, el_res: {'U': 748, 'B': 252}\n",
      "[02-03 23:14:18]: Peek #7 @ 106,302 samples, avg_lift: 0.00536, el_res: {'U': 685, 'B': 315}\n",
      "[02-03 23:14:26]: Peek #8 @ 121,488 samples, avg_lift: 0.00500, el_res: {'U': 623, 'B': 377}\n",
      "[02-03 23:14:35]: Peek #9 @ 136,674 samples, avg_lift: 0.00478, el_res: {'U': 556, 'B': 444}\n",
      "[02-03 23:14:43]: Peek #10 @ 151,860 samples, avg_lift: 0.00444, el_res: {'B': 517, 'U': 483}\n",
      "[02-03 23:14:51]: Peek #11 @ 167,046 samples, avg_lift: 0.00422, el_res: {'B': 573, 'U': 427}\n",
      "[02-03 23:14:59]: Peek #12 @ 182,232 samples, avg_lift: 0.00394, el_res: {'B': 638, 'U': 362}\n",
      "[02-03 23:15:06]: Peek #13 @ 197,418 samples, avg_lift: 0.00382, el_res: {'B': 703, 'U': 297}\n",
      "[02-03 23:15:13]: Peek #14 @ 212,604 samples, avg_lift: 0.00364, el_res: {'B': 751, 'U': 249}\n",
      "[02-03 23:15:18]: Peek #15 @ 227,790 samples, avg_lift: 0.00355, el_res: {'B': 798, 'U': 202}\n",
      "[02-03 23:15:23]: Peek #16 @ 242,976 samples, avg_lift: 0.00342, el_res: {'B': 836, 'U': 164}\n",
      "[02-03 23:15:27]: Peek #17 @ 258,162 samples, avg_lift: 0.00331, el_res: {'B': 868, 'U': 132}\n",
      "[02-03 23:15:31]: Peek #18 @ 273,348 samples, avg_lift: 0.00316, el_res: {'B': 892, 'U': 108}\n",
      "[02-03 23:15:34]: Peek #19 @ 288,534 samples, avg_lift: 0.00307, el_res: {'B': 910, 'U': 90}\n",
      "[02-03 23:15:37]: Peek #20 @ 303,720 samples, avg_lift: 0.00301, el_res: {'B': 916, 'U': 84}\n",
      "[02-03 23:15:39]: Peek #21 @ 318,906 samples, avg_lift: 0.00287, el_res: {'B': 929, 'U': 71}\n",
      "[02-03 23:15:42]: Peek #22 @ 334,092 samples, avg_lift: 0.00283, el_res: {'B': 945, 'U': 55}\n",
      "[02-03 23:15:44]: Peek #23 @ 349,278 samples, avg_lift: 0.00275, el_res: {'B': 952, 'U': 48}\n",
      "[02-03 23:15:45]: Peek #24 @ 364,464 samples, avg_lift: 0.00268, el_res: {'B': 963, 'U': 37}\n",
      "[02-03 23:15:47]: Peek #25 @ 379,650 samples, avg_lift: 0.00267, el_res: {'B': 968, 'U': 32}\n",
      "[Parameters]: muA: 0.2, muB: 0.204, sample_size: 379,653, n_experiments: 1,000, relative_mde_value: 0.02, toc_adj_factor: 0.00025, n_peeks: 25, start: 15,186, step: 15,186\n",
      "[EL] 25 peeks - Power: 0.9680, avg_sample_size: 159,280,sample_size_ratio: 60.83%, avg_lift: 0.00509, el_res: {'B': 968, 'U': 32}\n",
      "[Elasped time]: 0:02:22.110329\n",
      "[End time]: 2020-02-03 23:15:47\n"
     ]
    }
   ],
   "source": [
    "sim_data = sim_el.sim_peeking(muA=0.2, muB=0.204, sample_size=int(ss['variant_sample_size']*1.45), \n",
    "                              n_experiments=1000, relative_mde_value=0.02, n_peeks=25)"
   ]
  },
  {
   "cell_type": "markdown",
   "metadata": {},
   "source": [
    "## References:"
   ]
  },
  {
   "cell_type": "markdown",
   "metadata": {},
   "source": [
    "[1] C. Stucchio, Bayesian A/B Testing at VWO, Whitepaper, Visual Website Optimizer, 2015."
   ]
  }
 ],
 "metadata": {
  "kernelspec": {
   "display_name": "Python 3",
   "language": "python",
   "name": "python3"
  },
  "language_info": {
   "codemirror_mode": {
    "name": "ipython",
    "version": 3
   },
   "file_extension": ".py",
   "mimetype": "text/x-python",
   "name": "python",
   "nbconvert_exporter": "python",
   "pygments_lexer": "ipython3",
   "version": "3.7.6"
  }
 },
 "nbformat": 4,
 "nbformat_minor": 2
}
