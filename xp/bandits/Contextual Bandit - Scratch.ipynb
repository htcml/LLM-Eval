{
 "cells": [
  {
   "cell_type": "code",
   "execution_count": 1,
   "metadata": {},
   "outputs": [],
   "source": [
    "import time\n",
    "import numpy as np\n",
    "import util.helper as helper\n",
    "import util.ts as ts\n",
    "import util.bernoulli_bandit as bernoulli_bandit\n",
    "from util.contextual_bandit import ContextualBandit\n",
    "from util.lin_ucb import LinUCB\n",
    "import matplotlib.pyplot as plt\n",
    "np.set_printoptions(suppress=True) \n",
    "%matplotlib inline"
   ]
  },
  {
   "cell_type": "code",
   "execution_count": 2,
   "metadata": {},
   "outputs": [],
   "source": [
    "def get_context():\n",
    "    context = [[1,1,0,1,0,0],\n",
    "               [1,1,0,0,1,0],\n",
    "               [1,1,0,0,0,1],\n",
    "               [1,0,1,1,0,0],\n",
    "               [1,0,1,0,1,0],\n",
    "               [1,0,1,0,0,1]]\n",
    "    cid = np.random.choice([0,1,2,3,4,5])\n",
    "    x = np.array(context[cid]).reshape(-1,1)\n",
    "    return cid, x\n",
    "\n",
    "payouts = [[0.25,0.30,0.20],\n",
    "           [0.20,0.30,0.25],\n",
    "           [0.20,0.30,0.25],\n",
    "           [0.30,0.20,0.25],\n",
    "           [0.30,0.25,0.20],\n",
    "           [0.25,0.20,0.30]]"
   ]
  },
  {
   "cell_type": "markdown",
   "metadata": {},
   "source": [
    "## LinUCB algorithm\n",
    "<img src=\"img/linucb.jpeg\" style=\"text-align:center; width:50%\">\n",
    "\n",
    "Source: L. Li, W. Chu, J. Langford, and R. E. Schapire. <a href=\"https://arxiv.org/pdf/1003.0146.pdf\">A contextual-bandit approach to personalized\n",
    "news article recommendation</a>. In Proceedings of the 19th international conference on World\n",
    "wide web, pages 661–670, 2010."
   ]
  },
  {
   "cell_type": "markdown",
   "metadata": {},
   "source": [
    "## Simulation setup & encoding\n",
    "\n",
    "<img src=\"img/sim_setup.png\" style=\"text-align:center; width:60%\">\n",
    "\n",
    "<img src=\"img/encoding.png\" style=\"text-align:center; width:70%\">"
   ]
  },
  {
   "cell_type": "markdown",
   "metadata": {},
   "source": [
    "##  Use the first visitor to show how to compute UCB values, choose an arm and update matrices after receiving the reward.\n",
    "### Print the initialized As & bs"
   ]
  },
  {
   "cell_type": "code",
   "execution_count": 3,
   "metadata": {},
   "outputs": [
    {
     "name": "stdout",
     "output_type": "stream",
     "text": [
      "A0:\n",
      "[[1. 0. 0. 0. 0. 0.]\n",
      " [0. 1. 0. 0. 0. 0.]\n",
      " [0. 0. 1. 0. 0. 0.]\n",
      " [0. 0. 0. 1. 0. 0.]\n",
      " [0. 0. 0. 0. 1. 0.]\n",
      " [0. 0. 0. 0. 0. 1.]]\n",
      "\n",
      "A1:\n",
      "[[1. 0. 0. 0. 0. 0.]\n",
      " [0. 1. 0. 0. 0. 0.]\n",
      " [0. 0. 1. 0. 0. 0.]\n",
      " [0. 0. 0. 1. 0. 0.]\n",
      " [0. 0. 0. 0. 1. 0.]\n",
      " [0. 0. 0. 0. 0. 1.]]\n",
      "\n",
      "A2:\n",
      "[[1. 0. 0. 0. 0. 0.]\n",
      " [0. 1. 0. 0. 0. 0.]\n",
      " [0. 0. 1. 0. 0. 0.]\n",
      " [0. 0. 0. 1. 0. 0.]\n",
      " [0. 0. 0. 0. 1. 0.]\n",
      " [0. 0. 0. 0. 0. 1.]]\n",
      "\n",
      "\n",
      "b0:\n",
      "[[0.]\n",
      " [0.]\n",
      " [0.]\n",
      " [0.]\n",
      " [0.]\n",
      " [0.]]\n",
      "\n",
      "b1:\n",
      "[[0.]\n",
      " [0.]\n",
      " [0.]\n",
      " [0.]\n",
      " [0.]\n",
      " [0.]]\n",
      "\n",
      "b2:\n",
      "[[0.]\n",
      " [0.]\n",
      " [0.]\n",
      " [0.]\n",
      " [0.]\n",
      " [0.]]\n",
      "\n"
     ]
    }
   ],
   "source": [
    "lin_ucb = LinUCB(n_arms=3, dim=6, alpha=2)\n",
    "cmab = ContextualBandit(n_arms=3, payouts=payouts, sample_size=100)  \n",
    "\n",
    "for arm in range(lin_ucb.n_arms):\n",
    "    print(\"A{}:\\n{}\\n\".format(arm, lin_ucb.A[arm]))\n",
    "print()  \n",
    "for arm in range(lin_ucb.n_arms):\n",
    "    print(\"b{}:\\n{}\\n\".format(arm, lin_ucb.b[arm]))"
   ]
  },
  {
   "cell_type": "markdown",
   "metadata": {},
   "source": [
    "### Generate 1st visitor and its context feature vector $x_{t}$"
   ]
  },
  {
   "cell_type": "code",
   "execution_count": 4,
   "metadata": {},
   "outputs": [
    {
     "name": "stdout",
     "output_type": "stream",
     "text": [
      "[[1]\n",
      " [1]\n",
      " [0]\n",
      " [1]\n",
      " [0]\n",
      " [0]]\n"
     ]
    }
   ],
   "source": [
    "np.random.seed(2000)\n",
    "context_id, x = get_context()\n",
    "print(x)"
   ]
  },
  {
   "cell_type": "markdown",
   "metadata": {},
   "source": [
    "### Compute the UCB value for each arm based on 1st visitor's context feature vector $x_{t}$ at the time step $t = 0$\n",
    "$\\hat{\\theta}_{a} \\leftarrow A^{-1}_{a}  b_{a}$\n",
    "  \n",
    "$\\mu_{a} \\leftarrow \\hat{\\theta}^T_{a}  x_{t}$\n",
    "\n",
    "$\\sigma_{a} \\leftarrow \\sqrt{x_{t}^T A_{a}^{-1} x_{t}}$  \n",
    "  \n",
    "$ucb_{a} \\leftarrow \\mu_{a} + \\alpha * \\sigma_{a}$        \n",
    "$\\alpha$ is a hyperparameter."
   ]
  },
  {
   "cell_type": "code",
   "execution_count": 5,
   "metadata": {},
   "outputs": [
    {
     "name": "stdout",
     "output_type": "stream",
     "text": [
      "Arm 0:\n",
      "\n",
      "A:\n",
      " [[1. 0. 0. 0. 0. 0.]\n",
      " [0. 1. 0. 0. 0. 0.]\n",
      " [0. 0. 1. 0. 0. 0.]\n",
      " [0. 0. 0. 1. 0. 0.]\n",
      " [0. 0. 0. 0. 1. 0.]\n",
      " [0. 0. 0. 0. 0. 1.]]\n",
      "\n",
      "x:\n",
      " [[1]\n",
      " [1]\n",
      " [0]\n",
      " [1]\n",
      " [0]\n",
      " [0]]\n",
      "\n",
      "Ainv:\n",
      " [[ 1.  0.  0.  0.  0.  0.]\n",
      " [ 0.  1.  0.  0.  0.  0.]\n",
      " [ 0.  0.  1.  0.  0.  0.]\n",
      " [-0. -0. -0.  1. -0. -0.]\n",
      " [ 0.  0.  0.  0.  1.  0.]\n",
      " [ 0.  0.  0.  0.  0.  1.]]\n",
      "\n",
      "theta:\n",
      " [[0.]\n",
      " [0.]\n",
      " [0.]\n",
      " [0.]\n",
      " [0.]\n",
      " [0.]]\n",
      "\n",
      "mu:\n",
      " [[0.]]\n",
      "\n",
      "sigma:\n",
      " [[1.73205081]]\n",
      "\n",
      "Arm 0 ucb: 3.4641016151377544\n"
     ]
    }
   ],
   "source": [
    "ucbs = []\n",
    "means = []\n",
    "\n",
    "# Arm 0\n",
    "Ainv = np.linalg.inv(lin_ucb.A[0])\n",
    "theta = np.dot(Ainv, lin_ucb.b[0])\n",
    "mu = np.dot(theta.T, x)\n",
    "sigma = np.sqrt(np.dot(np.dot(x.T, Ainv), x))\n",
    "ucb = mu + lin_ucb.alpha * sigma\n",
    "means.append(mu)\n",
    "ucbs.append(ucb[0][0])\n",
    "print(\"Arm 0:\\n\")\n",
    "print(\"A:\\n {}\\n\".format(lin_ucb.A[0]))\n",
    "print(\"x:\\n {}\\n\".format(x))\n",
    "print(\"Ainv:\\n {}\\n\".format(Ainv))\n",
    "print(\"theta:\\n {}\\n\".format(theta))\n",
    "print(\"mu:\\n {}\\n\".format(mu))\n",
    "print(\"sigma:\\n {}\\n\".format(sigma))\n",
    "print(\"Arm 0 ucb: {}\".format(ucbs[0]))"
   ]
  },
  {
   "cell_type": "code",
   "execution_count": 6,
   "metadata": {},
   "outputs": [
    {
     "name": "stdout",
     "output_type": "stream",
     "text": [
      "Arm 0 ucb: 3.4641016151377544\n",
      "Arm 1 ucb: 3.4641016151377544\n",
      "Arm 2 ucb: 3.4641016151377544\n",
      "Action(Arm chosen): 2\n"
     ]
    }
   ],
   "source": [
    "np.random.seed(2000)\n",
    "ucbs = []\n",
    "means = []\n",
    "\n",
    "# Arm 0\n",
    "Ainv = np.linalg.inv(lin_ucb.A[0])\n",
    "theta = np.dot(Ainv, lin_ucb.b[0])\n",
    "mu = np.dot(theta.T, x)\n",
    "sigma = np.sqrt(np.dot(np.dot(x.T, Ainv), x))\n",
    "ucb = mu + lin_ucb.alpha * sigma\n",
    "means.append(mu)\n",
    "ucbs.append(ucb[0][0])\n",
    "print(\"Arm 0 ucb: {}\".format(ucbs[0]))\n",
    "\n",
    "# Arm 1\n",
    "Ainv = np.linalg.inv(lin_ucb.A[1])\n",
    "theta = np.dot(Ainv, lin_ucb.b[1])\n",
    "mu = np.dot(theta.T, x)\n",
    "sigma = np.sqrt(np.dot(np.dot(x.T, Ainv), x))\n",
    "ucb = mu + lin_ucb.alpha * sigma\n",
    "means.append(mu)\n",
    "ucbs.append(ucb[0][0])\n",
    "print(\"Arm 1 ucb: {}\".format(ucbs[1]))\n",
    "\n",
    "# Arm 2\n",
    "Ainv = np.linalg.inv(lin_ucb.A[2])\n",
    "theta = np.dot(Ainv, lin_ucb.b[2])\n",
    "mu = np.dot(theta.T, x)\n",
    "sigma = np.sqrt(np.dot(np.dot(x.T, Ainv), x))\n",
    "ucb = mu + lin_ucb.alpha * sigma\n",
    "means.append(mu)\n",
    "ucbs.append(ucb[0][0])\n",
    "print(\"Arm 2 ucb: {}\".format(ucbs[2]))\n",
    "\n",
    "action = np.random.choice(np.where(ucbs == np.max(ucbs))[0])\n",
    "print(\"Action(Arm chosen): {}\".format(action))"
   ]
  },
  {
   "cell_type": "markdown",
   "metadata": {},
   "source": [
    "### Update A & b for the chosen arm $a_{t}$ based on $x_{t}$ and reward  $r_{t}$\n",
    "$A_{a_{t}} \\leftarrow A_{a_{t}} + x_{t} x^{T}_{t}$  \n",
    "$b_{a_{t}} \\leftarrow b_{a_{t}} + r_{t} x_{t}$"
   ]
  },
  {
   "cell_type": "code",
   "execution_count": 8,
   "metadata": {},
   "outputs": [
    {
     "ename": "LinAlgError",
     "evalue": "Singular matrix",
     "output_type": "error",
     "traceback": [
      "\u001b[0;31m---------------------------------------------------------------------------\u001b[0m",
      "\u001b[0;31mLinAlgError\u001b[0m                               Traceback (most recent call last)",
      "\u001b[0;32m<ipython-input-8-45fc75b8954c>\u001b[0m in \u001b[0;36m<module>\u001b[0;34m\u001b[0m\n\u001b[0;32m----> 1\u001b[0;31m \u001b[0mnp\u001b[0m\u001b[0;34m.\u001b[0m\u001b[0mlinalg\u001b[0m\u001b[0;34m.\u001b[0m\u001b[0minv\u001b[0m\u001b[0;34m(\u001b[0m\u001b[0mxxt\u001b[0m\u001b[0;34m)\u001b[0m\u001b[0;34m\u001b[0m\u001b[0;34m\u001b[0m\u001b[0m\n\u001b[0m",
      "\u001b[0;32m<__array_function__ internals>\u001b[0m in \u001b[0;36minv\u001b[0;34m(*args, **kwargs)\u001b[0m\n",
      "\u001b[0;32m/opt/anaconda3/lib/python3.7/site-packages/numpy/linalg/linalg.py\u001b[0m in \u001b[0;36minv\u001b[0;34m(a)\u001b[0m\n\u001b[1;32m    545\u001b[0m     \u001b[0msignature\u001b[0m \u001b[0;34m=\u001b[0m \u001b[0;34m'D->D'\u001b[0m \u001b[0;32mif\u001b[0m \u001b[0misComplexType\u001b[0m\u001b[0;34m(\u001b[0m\u001b[0mt\u001b[0m\u001b[0;34m)\u001b[0m \u001b[0;32melse\u001b[0m \u001b[0;34m'd->d'\u001b[0m\u001b[0;34m\u001b[0m\u001b[0;34m\u001b[0m\u001b[0m\n\u001b[1;32m    546\u001b[0m     \u001b[0mextobj\u001b[0m \u001b[0;34m=\u001b[0m \u001b[0mget_linalg_error_extobj\u001b[0m\u001b[0;34m(\u001b[0m\u001b[0m_raise_linalgerror_singular\u001b[0m\u001b[0;34m)\u001b[0m\u001b[0;34m\u001b[0m\u001b[0;34m\u001b[0m\u001b[0m\n\u001b[0;32m--> 547\u001b[0;31m     \u001b[0mainv\u001b[0m \u001b[0;34m=\u001b[0m \u001b[0m_umath_linalg\u001b[0m\u001b[0;34m.\u001b[0m\u001b[0minv\u001b[0m\u001b[0;34m(\u001b[0m\u001b[0ma\u001b[0m\u001b[0;34m,\u001b[0m \u001b[0msignature\u001b[0m\u001b[0;34m=\u001b[0m\u001b[0msignature\u001b[0m\u001b[0;34m,\u001b[0m \u001b[0mextobj\u001b[0m\u001b[0;34m=\u001b[0m\u001b[0mextobj\u001b[0m\u001b[0;34m)\u001b[0m\u001b[0;34m\u001b[0m\u001b[0;34m\u001b[0m\u001b[0m\n\u001b[0m\u001b[1;32m    548\u001b[0m     \u001b[0;32mreturn\u001b[0m \u001b[0mwrap\u001b[0m\u001b[0;34m(\u001b[0m\u001b[0mainv\u001b[0m\u001b[0;34m.\u001b[0m\u001b[0mastype\u001b[0m\u001b[0;34m(\u001b[0m\u001b[0mresult_t\u001b[0m\u001b[0;34m,\u001b[0m \u001b[0mcopy\u001b[0m\u001b[0;34m=\u001b[0m\u001b[0;32mFalse\u001b[0m\u001b[0;34m)\u001b[0m\u001b[0;34m)\u001b[0m\u001b[0;34m\u001b[0m\u001b[0;34m\u001b[0m\u001b[0m\n\u001b[1;32m    549\u001b[0m \u001b[0;34m\u001b[0m\u001b[0m\n",
      "\u001b[0;32m/opt/anaconda3/lib/python3.7/site-packages/numpy/linalg/linalg.py\u001b[0m in \u001b[0;36m_raise_linalgerror_singular\u001b[0;34m(err, flag)\u001b[0m\n\u001b[1;32m     95\u001b[0m \u001b[0;34m\u001b[0m\u001b[0m\n\u001b[1;32m     96\u001b[0m \u001b[0;32mdef\u001b[0m \u001b[0m_raise_linalgerror_singular\u001b[0m\u001b[0;34m(\u001b[0m\u001b[0merr\u001b[0m\u001b[0;34m,\u001b[0m \u001b[0mflag\u001b[0m\u001b[0;34m)\u001b[0m\u001b[0;34m:\u001b[0m\u001b[0;34m\u001b[0m\u001b[0;34m\u001b[0m\u001b[0m\n\u001b[0;32m---> 97\u001b[0;31m     \u001b[0;32mraise\u001b[0m \u001b[0mLinAlgError\u001b[0m\u001b[0;34m(\u001b[0m\u001b[0;34m\"Singular matrix\"\u001b[0m\u001b[0;34m)\u001b[0m\u001b[0;34m\u001b[0m\u001b[0;34m\u001b[0m\u001b[0m\n\u001b[0m\u001b[1;32m     98\u001b[0m \u001b[0;34m\u001b[0m\u001b[0m\n\u001b[1;32m     99\u001b[0m \u001b[0;32mdef\u001b[0m \u001b[0m_raise_linalgerror_nonposdef\u001b[0m\u001b[0;34m(\u001b[0m\u001b[0merr\u001b[0m\u001b[0;34m,\u001b[0m \u001b[0mflag\u001b[0m\u001b[0;34m)\u001b[0m\u001b[0;34m:\u001b[0m\u001b[0;34m\u001b[0m\u001b[0;34m\u001b[0m\u001b[0m\n",
      "\u001b[0;31mLinAlgError\u001b[0m: Singular matrix"
     ]
    }
   ],
   "source": [
    "np.linalg.inv(xxt)"
   ]
  },
  {
   "cell_type": "code",
   "execution_count": 7,
   "metadata": {},
   "outputs": [
    {
     "name": "stdout",
     "output_type": "stream",
     "text": [
      "Reward: 1\n",
      "\n",
      "A before update:\n",
      "[[1. 0. 0. 0. 0. 0.]\n",
      " [0. 1. 0. 0. 0. 0.]\n",
      " [0. 0. 1. 0. 0. 0.]\n",
      " [0. 0. 0. 1. 0. 0.]\n",
      " [0. 0. 0. 0. 1. 0.]\n",
      " [0. 0. 0. 0. 0. 1.]]\n",
      "\n",
      "X*XT:\n",
      "[[1 1 0 1 0 0]\n",
      " [1 1 0 1 0 0]\n",
      " [0 0 0 0 0 0]\n",
      " [1 1 0 1 0 0]\n",
      " [0 0 0 0 0 0]\n",
      " [0 0 0 0 0 0]]\n",
      "\n",
      "A after update:\n",
      "[[2. 1. 0. 1. 0. 0.]\n",
      " [1. 2. 0. 1. 0. 0.]\n",
      " [0. 0. 1. 0. 0. 0.]\n",
      " [1. 1. 0. 2. 0. 0.]\n",
      " [0. 0. 0. 0. 1. 0.]\n",
      " [0. 0. 0. 0. 0. 1.]]\n",
      "\n",
      "b before update:\n",
      "[[0.]\n",
      " [0.]\n",
      " [0.]\n",
      " [0.]\n",
      " [0.]\n",
      " [0.]]\n",
      "\n",
      "Reward*X:\n",
      "[[1]\n",
      " [1]\n",
      " [0]\n",
      " [1]\n",
      " [0]\n",
      " [0]]\n",
      "\n",
      "b after update:\n",
      "[[1.]\n",
      " [1.]\n",
      " [0.]\n",
      " [1.]\n",
      " [0.]\n",
      " [0.]]\n",
      "\n"
     ]
    }
   ],
   "source": [
    "# generate reward\n",
    "#np.random.seed(2021) #=> get reward 0\n",
    "np.random.seed(2020) #=> get reward 1\n",
    "reward = cmab.pull_arm(action, context_id)\n",
    "print(\"Reward: {}\\n\".format(reward))\n",
    "\n",
    "# update A\n",
    "print(\"A before update:\\n{}\\n\".format(lin_ucb.A[action]))\n",
    "xxt = np.dot(x, np.transpose(x))\n",
    "lin_ucb.A[action] += xxt\n",
    "print(\"X*XT:\\n{}\\n\".format(xxt))\n",
    "print(\"A after update:\\n{}\\n\".format(lin_ucb.A[action]))\n",
    "\n",
    "print(\"b before update:\\n{}\\n\".format(lin_ucb.b[action]))\n",
    "rx = reward*x\n",
    "lin_ucb.b[action] += rx\n",
    "print(\"Reward*X:\\n{}\\n\".format(rx))\n",
    "print(\"b after update:\\n{}\\n\".format(lin_ucb.b[action]))"
   ]
  },
  {
   "cell_type": "markdown",
   "metadata": {},
   "source": [
    "### Use the built-in functions to choose an arm and update matrices."
   ]
  },
  {
   "cell_type": "code",
   "execution_count": 8,
   "metadata": {},
   "outputs": [
    {
     "name": "stdout",
     "output_type": "stream",
     "text": [
      "2 1\n"
     ]
    }
   ],
   "source": [
    "np.random.seed(2000)\n",
    "lin_ucb = LinUCB(n_arms=3, dim=6, alpha=2)\n",
    "cmab = ContextualBandit(n_arms=3, payouts=payouts, sample_size=100)\n",
    "# Choose an arm based on UCBs\n",
    "action, ucbs = lin_ucb.choose_arm(x)\n",
    "# Get reward\n",
    "reward = cmab.pull_arm(action, context_id)\n",
    "# Update A & b\n",
    "lin_ucb.update(action, reward, x)\n",
    "print(action, reward)"
   ]
  },
  {
   "cell_type": "markdown",
   "metadata": {},
   "source": [
    "## Full Simulation"
   ]
  },
  {
   "cell_type": "code",
   "execution_count": 9,
   "metadata": {},
   "outputs": [
    {
     "name": "stdout",
     "output_type": "stream",
     "text": [
      "finish run 10!\n",
      "finish run 20!\n",
      "finish run 30!\n",
      "finish run 40!\n",
      "finish run 50!\n",
      "finish run 60!\n",
      "finish run 70!\n",
      "finish run 80!\n",
      "finish run 90!\n",
      "finish run 100!\n",
      "[Start time]:2020-06-17 10:24:53\n",
      "[End time]:2020-06-17 10:56:56\n",
      "[Elapsed time]:0:32:03.209390\n"
     ]
    }
   ],
   "source": [
    "np.random.seed(2000)\n",
    "start_time = time.time()\n",
    "\n",
    "n_samples = 100000\n",
    "n_simulations = 100\n",
    "ct_bandits, ts_bandits, co_bandits = [], [], []\n",
    "for k in range(n_simulations):\n",
    "    lin_ucb = LinUCB(n_arms=3, dim=6, alpha=2)\n",
    "    ct_bandit = ContextualBandit(n_arms=3, payouts=payouts, sample_size=n_samples)\n",
    "    ts_bandit = ContextualBandit(n_arms=3, payouts=payouts, sample_size=n_samples)\n",
    "    co_bandit = ContextualBandit(n_arms=3, payouts=payouts, sample_size=n_samples)\n",
    "    for i in range(n_samples):\n",
    "        context_id, x = get_context()\n",
    "        \n",
    "        # CMAB\n",
    "        action, ucbs = lin_ucb.choose_arm(x)\n",
    "        reward = ct_bandit.pull_arm(action, context_id)\n",
    "        lin_ucb.update(action, reward, x)\n",
    "        \n",
    "        # MAB\n",
    "        action = ts.sample(ts_bandit.arm_S+1, ts_bandit.arm_F+1)['action']\n",
    "        ts_bandit.pull_arm(action, context_id)\n",
    "        \n",
    "        # Control\n",
    "        co_bandit.pull_arm(0, context_id)\n",
    "        \n",
    "    ct_bandits.append(ct_bandit)\n",
    "    ts_bandits.append(ts_bandit)\n",
    "    co_bandits.append(co_bandit) \n",
    "    \n",
    "    if (k+1)%10 == 0:\n",
    "        print(\"finish run {}!\".format(k+1))\n",
    "helper.print_elapsed_time(start_time)"
   ]
  },
  {
   "cell_type": "code",
   "execution_count": 17,
   "metadata": {},
   "outputs": [
    {
     "name": "stdout",
     "output_type": "stream",
     "text": [
      "LinUCB: 0.2975, TS-MAB: 0.2567, CONTROL: 0.2502\n"
     ]
    },
    {
     "data": {
      "text/plain": [
       "<matplotlib.legend.Legend at 0x7fec98c064d0>"
      ]
     },
     "execution_count": 17,
     "metadata": {},
     "output_type": "execute_result"
    },
    {
     "data": {
      "image/png": "[encoded data removed]",
      "text/plain": [
       "<Figure size 720x360 with 1 Axes>"
      ]
     },
     "metadata": {
      "needs_background": "light"
     },
     "output_type": "display_data"
    }
   ],
   "source": [
    "import warnings\n",
    "warnings.filterwarnings(\"ignore\")\n",
    "cvr_ct = bernoulli_bandit.get_avg_per_period_reward(ct_bandits)\n",
    "cvr_ts = bernoulli_bandit.get_avg_per_period_reward(ts_bandits)\n",
    "cvr_co = bernoulli_bandit.get_avg_per_period_reward(co_bandits)\n",
    "\n",
    "plt.figure(figsize=(10,5))\n",
    "plt.plot(cvr_ct, color='red', linewidth=3, label='LinUCB')\n",
    "plt.plot(cvr_ts, color='green', linewidth=3, label='TS-MAB')\n",
    "plt.plot(cvr_co, color='cyan', linewidth=3, label='CONTROL')\n",
    "plt.axhline(0.30,linestyle='--',color='grey', dashes=(2, 2))\n",
    "plt.axhline(0.2583,linestyle='--',color='grey', dashes=(2, 2))\n",
    "plt.axhline(0.25,linestyle='--',color='grey', dashes=(2, 2))\n",
    "plt.title('Cumulative Conversion Rate', fontweight=\"bold\")\n",
    "print(\"LinUCB: {:.4f}, TS-MAB: {:.4f}, CONTROL: {:.4f}\".format(cvr_ct[-1], cvr_ts[-1], cvr_co[-1]))\n",
    "plt.ylim([0.22,0.32])\n",
    "plt.legend()"
   ]
  }
 ],
 "metadata": {
  "kernelspec": {
   "display_name": "Python 3",
   "language": "python",
   "name": "python3"
  },
  "language_info": {
   "codemirror_mode": {
    "name": "ipython",
    "version": 3
   },
   "file_extension": ".py",
   "mimetype": "text/x-python",
   "name": "python",
   "nbconvert_exporter": "python",
   "pygments_lexer": "ipython3",
   "version": "3.7.6"
  }
 },
 "nbformat": 4,
 "nbformat_minor": 4
}
