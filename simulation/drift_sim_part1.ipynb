{
 "cells": [
  {
   "cell_type": "code",
   "execution_count": 1,
   "metadata": {},
   "outputs": [],
   "source": [
    "print(\"===> Import libraries\")\n",
    "%load_ext autoreload\n",
    "%autoreload 2\n",
    "import sys\n",
    "sys.path.append('../')\n",
    "import numpy as np\n",
    "from scipy import stats\n",
    "from scipy.spatial import distance\n",
    "from alibi_drift.AlibiDrift import AlibiDrift\n",
    "from sklearn.datasets import make_blobs, make_classification\n",
    "from sklearn.model_selection import train_test_split\n",
    "from sklearn.ensemble import RandomForestClassifier\n",
    "from sklearn.metrics import accuracy_score\n",
    "from sklearn.inspection import permutation_importance\n",
    "\n",
    "import seaborn as sns\n",
    "import matplotlib.pyplot as plt \n",
    "from matplotlib import style\n",
    "%matplotlib inline\n",
    "style.use(\"fivethirtyeight\")\n",
    "\n",
    "def kl_divergence(p, q):\n",
    "    p = np.array(p)\n",
    "    q = np.array(q)\n",
    "    return np.sum(np.where(p != 0, p * np.log(p / q), 0))"
   ]
  },
  {
   "cell_type": "code",
   "execution_count": 2,
   "metadata": {},
   "outputs": [
    {
     "data": {
      "application/javascript": [
       "\n",
       "        if (window._pyforest_update_imports_cell) { window._pyforest_update_imports_cell('import pandas as pd'); }\n",
       "    "
      ],
      "text/plain": [
       "<IPython.core.display.Javascript object>"
      ]
     },
     "metadata": {},
     "output_type": "display_data"
    },
    {
     "name": "stdout",
     "output_type": "stream",
     "text": [
      "0    200045\n",
      "1    199955\n",
      "dtype: int64\n",
      "-0.0010136123088698708 0.4998875 (400000, 5) (400000,)\n",
      "(80000, 5) (80000,) (300000, 5) (300000,) (20000, 5) (20000,)\n"
     ]
    }
   ],
   "source": [
    "print(\"\\n===> Create train, test, val datasets\")\n",
    "X, y = make_classification(n_samples=400000, n_features=5, \n",
    "                           n_classes=2, flip_y=0.1, random_state=2)\n",
    "\n",
    "X_train, X_test, y_train, y_test = train_test_split(X, y, test_size=3/4, random_state=100)\n",
    "X_train, X_val, y_train, y_val = train_test_split(X_train, y_train, test_size=0.2, random_state=100) \n",
    "print(pd.value_counts(y))\n",
    "print(np.mean(X), np.mean(y), X.shape, y.shape)\n",
    "print(X_train.shape, y_train.shape, X_test.shape, y_test.shape, X_val.shape, y_val.shape)"
   ]
  },
  {
   "cell_type": "code",
   "execution_count": 3,
   "metadata": {},
   "outputs": [
    {
     "name": "stdout",
     "output_type": "stream",
     "text": [
      "train accuracy:  0.9999\n",
      "test accuracy:   0.9201466666666667\n",
      "CPU times: user 29.3 s, sys: 238 ms, total: 29.5 s\n",
      "Wall time: 29.7 s\n"
     ]
    }
   ],
   "source": [
    "%%time\n",
    "print(\"\\n===> Fit a RandomForestClassifier\")\n",
    "clf = RandomForestClassifier(random_state=2)\n",
    "clf.fit(X_train, y_train)\n",
    "y_train_pred = clf.predict(X_train)\n",
    "y_test_pred = clf.predict(X_test)\n",
    "print(\"train accuracy: \", accuracy_score(y_train_pred, y_train))\n",
    "print(\"test accuracy:  \", accuracy_score(y_test_pred, y_test))"
   ]
  },
  {
   "cell_type": "code",
   "execution_count": 4,
   "metadata": {},
   "outputs": [],
   "source": [
    "# %%time\n",
    "# r = permutation_importance(clf, X_val, y_val, n_repeats=30, random_state=0)\n",
    "\n",
    "# fnames = [\"F\"+str(i) for i in range(5)]\n",
    "# for i in r.importances_mean.argsort()[::-1]:\n",
    "#     #if r.importances_mean[i] - 2 * r.importances_std[i] > 0:\n",
    "#         print(f\"{fnames[i]:<8}\" \n",
    "#               f\"{r.importances_mean[i]:.3f}\"\n",
    "#               f\" +/- {r.importances_std[i]:.3f}\")\n",
    "        \n",
    "# F4      0.272 +/- 0.002\n",
    "# F0      0.240 +/- 0.002\n",
    "# F3      0.124 +/- 0.002\n",
    "# F2      0.083 +/- 0.001\n",
    "# F1      -0.000 +/- 0.000"
   ]
  }
 ],
 "metadata": {
  "kernelspec": {
   "display_name": "Python 3",
   "language": "python",
   "name": "python3"
  },
  "language_info": {
   "codemirror_mode": {
    "name": "ipython",
    "version": 3
   },
   "file_extension": ".py",
   "mimetype": "text/x-python",
   "name": "python",
   "nbconvert_exporter": "python",
   "pygments_lexer": "ipython3",
   "version": "3.8.5"
  }
 },
 "nbformat": 4,
 "nbformat_minor": 4
}
